{
 "metadata": {
  "name": "",
  "signature": "sha256:2edf3333be2e05741ea51a3011657db1929f78e4c7663031455f1dca1d754397"
 },
 "nbformat": 3,
 "nbformat_minor": 0,
 "worksheets": [
  {
   "cells": [
    {
     "cell_type": "code",
     "collapsed": false,
     "input": [
      "%matplotlib inline\n",
      "import matplotlib.pyplot as plt"
     ],
     "language": "python",
     "metadata": {},
     "outputs": [],
     "prompt_number": 2
    },
    {
     "cell_type": "code",
     "collapsed": false,
     "input": [
      "from vespa.stars import MultipleStarPopulation"
     ],
     "language": "python",
     "metadata": {},
     "outputs": [],
     "prompt_number": 3
    },
    {
     "cell_type": "code",
     "collapsed": false,
     "input": [
      "from scipy.stats import powerlaw\n",
      "mmin=0.2; mmax=0.5\n",
      "ms = powerlaw(3).rvs(int(1e5)) * (mmax-mmin) + mmin #rough approximation to the mass distribution of Kepler M's\n",
      "plt.hist(ms);"
     ],
     "language": "python",
     "metadata": {},
     "outputs": [
      {
       "metadata": {},
       "output_type": "display_data",
       "png": "[encoded data removed]",
       "text": [
        "<matplotlib.figure.Figure at 0x10c368310>"
       ]
      }
     ],
     "prompt_number": 4
    },
    {
     "cell_type": "code",
     "collapsed": false,
     "input": [
      "pop = MultipleStarPopulation(mA=ms, qmin=0.2, max_distance=500, minmass=0.15)"
     ],
     "language": "python",
     "metadata": {},
     "outputs": [],
     "prompt_number": 27
    },
    {
     "cell_type": "code",
     "collapsed": false,
     "input": [
      "query = 'r_mag < 17'\n",
      "frac = pop.binary_fraction(query) + pop.triple_fraction(query)"
     ],
     "language": "python",
     "metadata": {},
     "outputs": [],
     "prompt_number": 28
    },
    {
     "cell_type": "code",
     "collapsed": false,
     "input": [
      "frac/.52"
     ],
     "language": "python",
     "metadata": {},
     "outputs": [
      {
       "metadata": {},
       "output_type": "pyout",
       "prompt_number": 29,
       "text": [
        "1.2463947259991759"
       ]
      }
     ],
     "prompt_number": 29
    },
    {
     "cell_type": "code",
     "collapsed": false,
     "input": [
      "plt.hist(pop.stars['distance'], histtype='step', lw=3)\n",
      "plt.hist(pop.stars.query(query)['distance'].values, histtype='step', lw=3);"
     ],
     "language": "python",
     "metadata": {},
     "outputs": [
      {
       "metadata": {},
       "output_type": "display_data",
       "png": "[encoded data removed]",
       "text": [
        "<matplotlib.figure.Figure at 0x10ca0eed0>"
       ]
      }
     ],
     "prompt_number": 31
    },
    {
     "cell_type": "code",
     "collapsed": false,
     "input": [
      "sub = pop.stars.query(query)\n",
      "(sub['radius_A'] + sub['radius_B']).mean() / (pop.stars['radius_A'] + pop.stars['radius_B']).mean()"
     ],
     "language": "python",
     "metadata": {},
     "outputs": [
      {
       "metadata": {},
       "output_type": "pyout",
       "prompt_number": 35,
       "text": [
        "1.079022257298867"
       ]
      }
     ],
     "prompt_number": 35
    },
    {
     "cell_type": "markdown",
     "metadata": {},
     "source": [
      "OK, so for multiple systems, average eclipse probability is about 8% higher than for volume-limited sample. And binary fraction is about 20-25% higher.  What does this mean for an appropriate correction factor?  Haven't thought this through carefully yet."
     ]
    },
    {
     "cell_type": "code",
     "collapsed": false,
     "input": [],
     "language": "python",
     "metadata": {},
     "outputs": []
    }
   ],
   "metadata": {}
  }
 ]
}
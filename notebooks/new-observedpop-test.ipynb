{
 "metadata": {
  "name": "",
  "signature": "sha256:c13a2c0ecebec7e01fb24ab42ebdce5f820220f49412e7ced7923277afe25e10"
 },
 "nbformat": 3,
 "nbformat_minor": 0,
 "worksheets": [
  {
   "cells": [
    {
     "cell_type": "code",
     "collapsed": false,
     "input": [
      "%matplotlib inline\n",
      "\n",
      "from vespa.stars.populations import Observed_BinaryPopulation\n",
      "from vespa.stars.populations import Observed_TriplePopulation\n",
      "from vespa.populations import EBPopulation, HEBPopulation\n",
      "\n",
      "from isochrones.starmodel import BinaryStarModel,TripleStarModel\n",
      "\n",
      "import logging\n",
      "logger = logging.getLogger()\n",
      "logger.setLevel(logging.DEBUG)"
     ],
     "language": "python",
     "metadata": {},
     "outputs": [
      {
       "output_type": "stream",
       "stream": "stderr",
       "text": [
        "WARNING:root:progressbar not imported\n"
       ]
      }
     ],
     "prompt_number": 1
    },
    {
     "cell_type": "code",
     "collapsed": false,
     "input": [
      "mags = {'H': 10.211,\n",
      "            'J': 10.523,\n",
      "            'K': 10.152000000000001}\n",
      "#pop = Observed_BinaryPopulation(mags=mags, starmodel=starmodel)\n",
      "#pop = Observed_BinaryPopulation.load_hdf('test_observedbinary.h5')\n",
      "\n",
      "starmodel = TripleStarModel.load_hdf('test_observedtriple.h5')\n",
      "starmodel.save_hdf('test_triple_starmodel.h5')\n",
      "#pop = Observed_TriplePopulation(mags=mags, n=100, starmodel=starmodel)"
     ],
     "language": "python",
     "metadata": {},
     "outputs": [],
     "prompt_number": 2
    },
    {
     "cell_type": "code",
     "collapsed": false,
     "input": [
      "pop = Observed_BinaryPopulation.load_hdf('test_observedbinary.h5')"
     ],
     "language": "python",
     "metadata": {},
     "outputs": [],
     "prompt_number": 5
    },
    {
     "cell_type": "code",
     "collapsed": false,
     "input": [
      "starmodel = pop.starmodel\n",
      "starmodel.save_hdf('test_binary_starmodel.h5')"
     ],
     "language": "python",
     "metadata": {},
     "outputs": [],
     "prompt_number": 6
    },
    {
     "cell_type": "code",
     "collapsed": false,
     "input": [
      "ebpop = EBPopulation(starmodel=starmodel, n=100, period=20)"
     ],
     "language": "python",
     "metadata": {},
     "outputs": [
      {
       "output_type": "stream",
       "stream": "stderr",
       "text": [
        "INFO:root:10 binaries are \"too close\"; gave up trying to fix.\n"
       ]
      },
      {
       "output_type": "stream",
       "stream": "stderr",
       "text": [
        "INFO:root:74 Eclipsing EB systems generated (target 100)\n"
       ]
      },
      {
       "output_type": "stream",
       "stream": "stderr",
       "text": [
        "INFO:root:13 binaries are \"too close\"; gave up trying to fix.\n"
       ]
      },
      {
       "output_type": "stream",
       "stream": "stderr",
       "text": [
        "INFO:root:148 Eclipsing EB systems generated (target 100)\n"
       ]
      }
     ],
     "prompt_number": 21
    },
    {
     "cell_type": "code",
     "collapsed": false,
     "input": [
      "ebpop.fit_trapezoids()"
     ],
     "language": "python",
     "metadata": {},
     "outputs": [
      {
       "output_type": "stream",
       "stream": "stderr",
       "text": [
        "INFO:root:Fitting trapezoid models for EBs...\n"
       ]
      },
      {
       "output_type": "stream",
       "stream": "stderr",
       "text": [
        "INFO:root:Done.\n"
       ]
      }
     ],
     "prompt_number": 22
    },
    {
     "cell_type": "code",
     "collapsed": false,
     "input": [
      "hebpop = HEBPopulation(starmodel=starmodel, n=100, period=20,\n",
      "                       mags=mags)"
     ],
     "language": "python",
     "metadata": {},
     "outputs": [
      {
       "output_type": "stream",
       "stream": "stderr",
       "text": [
        "DEBUG:root:initial probability given mininc starting at 0.0700337269393\n"
       ]
      },
      {
       "output_type": "stream",
       "stream": "stderr",
       "text": [
        "DEBUG:root:final prob: 0.058828330629\n"
       ]
      },
      {
       "output_type": "stream",
       "stream": "stderr",
       "text": [
        "INFO:root:84 eclipsing HEB systems generated (target 100)\n"
       ]
      },
      {
       "output_type": "stream",
       "stream": "stderr",
       "text": [
        "DEBUG:root:0 nans in stars[dpri]\n"
       ]
      },
      {
       "output_type": "stream",
       "stream": "stderr",
       "text": [
        "DEBUG:root:0 nans in df[dpri]\n"
       ]
      },
      {
       "output_type": "stream",
       "stream": "stderr",
       "text": [
        "DEBUG:root:initial probability given mininc starting at 0.0667398144322\n"
       ]
      },
      {
       "output_type": "stream",
       "stream": "stderr",
       "text": [
        "DEBUG:root:final prob: 0.0553940459787\n"
       ]
      },
      {
       "output_type": "stream",
       "stream": "stderr",
       "text": [
        "INFO:root:167 eclipsing HEB systems generated (target 100)\n"
       ]
      },
      {
       "output_type": "stream",
       "stream": "stderr",
       "text": [
        "DEBUG:root:0 nans in stars[dpri]\n"
       ]
      },
      {
       "output_type": "stream",
       "stream": "stderr",
       "text": [
        "DEBUG:root:0 nans in df[dpri]\n"
       ]
      }
     ],
     "prompt_number": 3
    },
    {
     "cell_type": "code",
     "collapsed": false,
     "input": [
      "ok = ((ebpop.stars['slope'] > 0) & (ebpop.stars['duration'] > 0) & \n",
      "                  (ebpop.stars['duration'] < ebpop.period) & (ebpop.depth > 0) &\n",
      "                  ebpop.distok)"
     ],
     "language": "python",
     "metadata": {},
     "outputs": [],
     "prompt_number": 23
    },
    {
     "cell_type": "code",
     "collapsed": false,
     "input": [
      "ok.sum()"
     ],
     "language": "python",
     "metadata": {},
     "outputs": [
      {
       "metadata": {},
       "output_type": "pyout",
       "prompt_number": 24,
       "text": [
        "100"
       ]
      }
     ],
     "prompt_number": 24
    },
    {
     "cell_type": "code",
     "collapsed": false,
     "input": [],
     "language": "python",
     "metadata": {},
     "outputs": []
    },
    {
     "cell_type": "code",
     "collapsed": false,
     "input": [
      "mags = {'H': (10.211,0.05),\n",
      "            'J': (10.523, 0.05),\n",
      "            'K': (10.152000000000001,0.05)}\n",
      "from isochrones.starmodel import TripleStarModel\n",
      "from isochrones.dartmouth import Dartmouth_Isochrone\n",
      "dar = Dartmouth_Isochrone()\n",
      "\n",
      "starpop = TripleStarModel(dar, **mags)\n",
      "starpop.fit_mcmc()"
     ],
     "language": "python",
     "metadata": {},
     "outputs": [
      {
       "metadata": {},
       "output_type": "pyout",
       "prompt_number": 4,
       "text": [
        "<emcee.ensemble.EnsembleSampler at 0x10c690c10>"
       ]
      }
     ],
     "prompt_number": 4
    },
    {
     "cell_type": "code",
     "collapsed": false,
     "input": [
      "starpop.save_hdf('test_observedtriple.h5')"
     ],
     "language": "python",
     "metadata": {},
     "outputs": [],
     "prompt_number": 5
    },
    {
     "cell_type": "code",
     "collapsed": false,
     "input": [],
     "language": "python",
     "metadata": {},
     "outputs": []
    }
   ],
   "metadata": {}
  }
 ]
}